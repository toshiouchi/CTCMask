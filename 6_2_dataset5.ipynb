{
 "cells": [
  {
   "cell_type": "markdown",
   "metadata": {
    "id": "oQUVJmRm7a2V"
   },
   "source": [
    "#第6章 画像キャプショニング\n",
    "##第6.2節 データセットの準備"
   ]
  },
  {
   "cell_type": "markdown",
   "metadata": {
    "id": "fIZCu47o_nCg"
   },
   "source": [
    "###モジュールのインポートとGoogleドライブのマウント"
   ]
  },
  {
   "cell_type": "code",
   "execution_count": 1,
   "metadata": {
    "colab": {
     "base_uri": "https://localhost:8080/"
    },
    "executionInfo": {
     "elapsed": 22318,
     "status": "ok",
     "timestamp": 1677132421957,
     "user": {
      "displayName": "Katsuyuki Nakamura",
      "userId": "06073403914299127731"
     },
     "user_tz": -540
    },
    "id": "eS1kRMB4512I",
    "outputId": "c7931ad2-005a-4c3e-f2a3-03fcc143bfde"
   },
   "outputs": [],
   "source": [
    "import pickle\n",
    "from pycocotools.coco import COCO\n",
    "from collections import Counter\n",
    "\n",
    "# Googleドライブをマウント\n",
    "#from google.colab import drive\n",
    "#drive.mount('/content/drive')"
   ]
  },
  {
   "cell_type": "markdown",
   "metadata": {
    "id": "PqJpT6tdBVFL"
   },
   "source": [
    "###辞書の作成"
   ]
  },
  {
   "cell_type": "code",
   "execution_count": 2,
   "metadata": {
    "colab": {
     "base_uri": "https://localhost:8080/"
    },
    "executionInfo": {
     "elapsed": 4197,
     "status": "ok",
     "timestamp": 1677132447572,
     "user": {
      "displayName": "Katsuyuki Nakamura",
      "userId": "06073403914299127731"
     },
     "user_tz": -540
    },
    "id": "dt03YvWpBVbo",
    "outputId": "19bb016b-6664-4a4c-cd12-93e82478acc6"
   },
   "outputs": [
    {
     "name": "stdout",
     "output_type": "stream",
     "text": [
      "loading annotations into memory...\n",
      "Done (t=0.68s)\n",
      "creating index...\n",
      "index created!\n",
      "単語数: 13582\n"
     ]
    }
   ],
   "source": [
    "# データの保存先\n",
    "fp_train_caption = '../data/coco2014/captions_train2017.json'\n",
    "fp_word_to_id = '../6_img_captioning/model/best/word_to_id5_train2017.pkl'\n",
    "fp_id_to_word = '../6_img_captioning/model/best/id_to_word5_train2017.pkl'\n",
    "\n",
    "# キャプションを読み込み\n",
    "coco = COCO(fp_train_caption)\n",
    "anns_keys = coco.anns.keys()\n",
    "\n",
    "# 単語ーID対応表の作成\n",
    "coco_token = []\n",
    "for key in anns_keys:\n",
    "    caption = coco.anns[key]['caption']\n",
    "    tokens = caption.lower().split()\n",
    "    coco_token.extend(tokens)\n",
    "\n",
    "# ピリオド、カンマを削除\n",
    "table = str.maketrans({'.': '',\n",
    "                       ',': ''})\n",
    "for k in range(len(coco_token)):\n",
    "    coco_token[k] = coco_token[k].translate(table)\n",
    "\n",
    "# 単語ヒストグラムを作成\n",
    "freq = Counter(coco_token)\n",
    "\n",
    "# 3回以上出現する単語に限定して辞書を作成\n",
    "vocab = [token for token, count in freq.items() if count >= 3]\n",
    "sorted(vocab)\n",
    "\n",
    "# 特殊トークンの追加\n",
    "vocab.append('<start>') # 文章の始まりを表すトークンを追加\n",
    "vocab.append('<end>')  # 文章の終わりを表すトークンを追加\n",
    "vocab.append('<unk>')  # 辞書に無い単語を表すトークンを追加\n",
    "vocab.append('<null>')  # 系列長を揃えるためのトークンを追加\n",
    "vocab.append('<mask>')\n",
    "\n",
    "# 単語ー単語ID対応表の作成\n",
    "word_to_id = {token: i + 1 for i, token in enumerate(vocab)}\n",
    "id_to_word = {i + 1 : token for i, token in enumerate(vocab)}\n",
    "\n",
    "# ファイル出力\n",
    "with open(fp_word_to_id, 'wb') as f:\n",
    "    pickle.dump(word_to_id, f)\n",
    "with open(fp_id_to_word, 'wb') as f:\n",
    "    pickle.dump(id_to_word, f)\n",
    "\n",
    "print(f'単語数: {str(len(word_to_id))}')"
   ]
  },
  {
   "cell_type": "code",
   "execution_count": null,
   "metadata": {},
   "outputs": [],
   "source": []
  }
 ],
 "metadata": {
  "colab": {
   "provenance": []
  },
  "gpuClass": "standard",
  "kernelspec": {
   "display_name": "Python 3 (ipykernel)",
   "language": "python",
   "name": "python3"
  },
  "language_info": {
   "codemirror_mode": {
    "name": "ipython",
    "version": 3
   },
   "file_extension": ".py",
   "mimetype": "text/x-python",
   "name": "python",
   "nbconvert_exporter": "python",
   "pygments_lexer": "ipython3",
   "version": "3.10.9"
  }
 },
 "nbformat": 4,
 "nbformat_minor": 1
}
